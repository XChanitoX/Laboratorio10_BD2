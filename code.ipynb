{
 "cells": [
  {
   "cell_type": "markdown",
   "metadata": {},
   "source": [
    "# P2"
   ]
  },
  {
   "cell_type": "code",
   "execution_count": 6,
   "metadata": {},
   "outputs": [
    {
     "data": {
      "text/plain": [
       "(array([0.40266667, 0.34633333, 0.        , 0.24433333, 0.        ,\n",
       "        0.29433333, 0.244     , 0.        , 0.104     , 0.031     ]),\n",
       " array([0. , 0.6, 1.2, 1.8, 2.4, 3. , 3.6, 4.2, 4.8, 5.4, 6. ]),\n",
       " <BarContainer object of 10 artists>)"
      ]
     },
     "execution_count": 6,
     "metadata": {},
     "output_type": "execute_result"
    },
    {
     "data": {
      "image/png": "[encoded data removed]",
      "text/plain": [
       "<Figure size 432x288 with 1 Axes>"
      ]
     },
     "metadata": {
      "needs_background": "light"
     },
     "output_type": "display_data"
    }
   ],
   "source": [
    "import matplotlib.pyplot as plt\n",
    "import pandas as pd\n",
    "import numpy as np\n",
    "\n",
    "iris = pd.read_csv('https://raw.githubusercontent.com/mwaskom/seaborn-data/master/iris.csv')\n",
    "\n",
    "def euclideanDistance(x,y):\n",
    "    return np.linalg.norm(x-y)\n",
    "\n",
    "def getDistance(data,n):\n",
    "    v = np.repeat(0,n)\n",
    "\n",
    "    for i in range(n):\n",
    "        ind = np.random.randint(len(data),size=2)\n",
    "        p = data.iloc[ind[0],:]\n",
    "        q = data.iloc[ind[1],:]\n",
    "        v[i] = euclideanDistance(p,q)\n",
    "    return v\n",
    "\n",
    "d = getDistance(iris.iloc[:,:4],5000)\n",
    "plt.hist(d,density=True,bins=10)\n"
   ]
  },
  {
   "cell_type": "markdown",
   "metadata": {},
   "source": [
    "# P3"
   ]
  },
  {
   "cell_type": "code",
   "execution_count": 5,
   "metadata": {},
   "outputs": [
    {
     "data": {
      "text/plain": [
       "[0, 0, 0]"
      ]
     },
     "execution_count": 5,
     "metadata": {},
     "output_type": "execute_result"
    }
   ],
   "source": [
    "import face_recognition\n",
    "from rtree import index\n",
    "\n",
    "def build_tree(file,q):\n",
    "    img = face_recognition.load_image_file(file)\n",
    "    unknown_face_encodings = face_recognition.face_encodings(img)\n",
    "    \n",
    "    p = index.Property()\n",
    "    p.dimension = 2\n",
    "    p.buffering_capacity = 3\n",
    "    p.dat_extension = 'data'\n",
    "    p.idx_extension = 'index'\n",
    "    idx = index.Index('2d_index',properties=p)\n",
    "\n",
    "    if len(unknown_face_encodings) > 0:\n",
    "        for i in range(len(unknown_face_encodings)):\n",
    "            idx.insert(i,(i,i,i,i))\n",
    "    lres = list(idx.nearest(coordinates=q,num_results=1))\n",
    "\n",
    "    return lres\n",
    "\n",
    "file = open('/mnt/c/Users/Sebastian/C_2021-2/BD2/Laboratory/Lab_10.2/Laboratorio10_BD2/foto.jpg','rb')\n",
    "build_tree(file,(3,6))"
   ]
  }
 ],
 "metadata": {
  "interpreter": {
   "hash": "31f2aee4e71d21fbe5cf8b01ff0e069b9275f58929596ceb00d14d90e3e16cd6"
  },
  "kernelspec": {
   "display_name": "Python 3.7.3 64-bit",
   "language": "python",
   "name": "python3"
  },
  "language_info": {
   "codemirror_mode": {
    "name": "ipython",
    "version": 3
   },
   "file_extension": ".py",
   "mimetype": "text/x-python",
   "name": "python",
   "nbconvert_exporter": "python",
   "pygments_lexer": "ipython3",
   "version": "3.7.3"
  },
  "orig_nbformat": 4
 },
 "nbformat": 4,
 "nbformat_minor": 2
}
